{
 "cells": [
  {
   "cell_type": "code",
   "execution_count": 1,
   "id": "c5213c9e",
   "metadata": {},
   "outputs": [],
   "source": [
    "# Import dependencies\n",
    "import random"
   ]
  },
  {
   "cell_type": "code",
   "execution_count": 2,
   "id": "9a5f2236",
   "metadata": {},
   "outputs": [
    {
     "data": {
      "text/plain": [
       "-2"
      ]
     },
     "execution_count": 2,
     "metadata": {},
     "output_type": "execute_result"
    }
   ],
   "source": [
    "random.randint(-90,90)"
   ]
  },
  {
   "cell_type": "code",
   "execution_count": 4,
   "id": "8ab344c4",
   "metadata": {},
   "outputs": [
    {
     "data": {
      "text/plain": [
       "0.8527327090029839"
      ]
     },
     "execution_count": 4,
     "metadata": {},
     "output_type": "execute_result"
    }
   ],
   "source": [
    "random.random()"
   ]
  },
  {
   "cell_type": "code",
   "execution_count": 5,
   "id": "1c1aabbc",
   "metadata": {},
   "outputs": [
    {
     "data": {
      "text/plain": [
       "-34.6698924936374"
      ]
     },
     "execution_count": 5,
     "metadata": {},
     "output_type": "execute_result"
    }
   ],
   "source": [
    "random_number = random.randint(-90,90) + random.random()\n",
    "random_number"
   ]
  },
  {
   "cell_type": "code",
   "execution_count": 6,
   "id": "fd90fa64",
   "metadata": {},
   "outputs": [],
   "source": [
    "x = 1\n",
    "latitudes = []\n",
    "while x < 11:\n",
    "    random_lat = random.randint(-90, 89) + random.random()\n",
    "    latitudes.append(random_lat)\n",
    "    x += 1"
   ]
  },
  {
   "cell_type": "code",
   "execution_count": 8,
   "id": "dba12cd1",
   "metadata": {},
   "outputs": [
    {
     "data": {
      "text/plain": [
       "[44.08098140296405,\n",
       " -77.92361026301924,\n",
       " 63.79368776145881,\n",
       " -71.70516343397998,\n",
       " 12.102358237830638,\n",
       " -3.722709443525695,\n",
       " 6.555409385395031,\n",
       " 20.587549092233047,\n",
       " 87.66652521520204,\n",
       " 57.3961633799721]"
      ]
     },
     "execution_count": 8,
     "metadata": {},
     "output_type": "execute_result"
    }
   ],
   "source": [
    "latitudes"
   ]
  },
  {
   "cell_type": "code",
   "execution_count": 9,
   "id": "1328f56f",
   "metadata": {},
   "outputs": [
    {
     "data": {
      "text/plain": [
       "87"
      ]
     },
     "execution_count": 9,
     "metadata": {},
     "output_type": "execute_result"
    }
   ],
   "source": [
    "random.randrange(-90,90,step=1)"
   ]
  },
  {
   "cell_type": "code",
   "execution_count": 10,
   "id": "66b82ead",
   "metadata": {},
   "outputs": [
    {
     "data": {
      "text/plain": [
       "15"
      ]
     },
     "execution_count": 10,
     "metadata": {},
     "output_type": "execute_result"
    }
   ],
   "source": [
    "random.randrange(-90,90,step=3)"
   ]
  },
  {
   "cell_type": "code",
   "execution_count": 11,
   "id": "6981efca",
   "metadata": {},
   "outputs": [
    {
     "data": {
      "text/plain": [
       "-1.789172593954035"
      ]
     },
     "execution_count": 11,
     "metadata": {},
     "output_type": "execute_result"
    }
   ],
   "source": [
    "random.uniform(-90,90)"
   ]
  },
  {
   "cell_type": "code",
   "execution_count": 12,
   "id": "0b9e5d8d",
   "metadata": {},
   "outputs": [],
   "source": [
    "# Import dependencies\n",
    "import numpy as np"
   ]
  },
  {
   "cell_type": "code",
   "execution_count": 13,
   "id": "83c18093",
   "metadata": {},
   "outputs": [
    {
     "data": {
      "text/plain": [
       "-29.46450944078324"
      ]
     },
     "execution_count": 13,
     "metadata": {},
     "output_type": "execute_result"
    }
   ],
   "source": [
    "np.random.uniform(-90.00,90.00)"
   ]
  },
  {
   "cell_type": "code",
   "execution_count": 14,
   "id": "62eeb3d1",
   "metadata": {},
   "outputs": [
    {
     "data": {
      "text/plain": [
       "array([ 24.42437578, -20.78487611,  22.08523984, -57.03349108,\n",
       "       -37.93486821, -32.73022315,  85.72352802,  48.74772616,\n",
       "       -28.84322374,  48.66481536, -88.93045764,   6.07530214,\n",
       "         9.05494802, -26.34769937,  32.84749873, -21.78055646,\n",
       "       -20.50365403, -61.23567396, -70.44158645, -27.60627827,\n",
       "       -41.29076172,  -8.04050374,  71.40853919, -34.75915856,\n",
       "        87.60810052, -85.89540883,  20.68389529, -56.98498192,\n",
       "        -7.44232443, -64.4528751 ,  79.88262383, -15.40179555,\n",
       "        37.73332679, -30.05710759, -52.57782229, -14.72652488,\n",
       "        50.22598431, -25.48225938,  30.31936972,  38.34356122,\n",
       "         5.42088342,  63.12611043, -84.17377293,  51.88914956,\n",
       "        35.36311928,  71.55417771, -23.53072393,  36.38494111,\n",
       "        68.1301514 , -60.78062629])"
      ]
     },
     "execution_count": 14,
     "metadata": {},
     "output_type": "execute_result"
    }
   ],
   "source": [
    "np.random.uniform(-90.00,90.00, size = 50)"
   ]
  },
  {
   "cell_type": "code",
   "execution_count": 15,
   "id": "8e8ebe28",
   "metadata": {},
   "outputs": [],
   "source": [
    "# Import dependencies\n",
    "import timeit"
   ]
  },
  {
   "cell_type": "code",
   "execution_count": 16,
   "id": "7fd1b466",
   "metadata": {},
   "outputs": [
    {
     "name": "stdout",
     "output_type": "stream",
     "text": [
      "20.8 µs ± 1.08 µs per loop (mean ± std. dev. of 7 runs, 100000 loops each)\n"
     ]
    }
   ],
   "source": [
    "%timeit np.random.uniform(-90.00,90.00, size=1500)"
   ]
  },
  {
   "cell_type": "code",
   "execution_count": 18,
   "id": "0d49451d",
   "metadata": {},
   "outputs": [
    {
     "name": "stdout",
     "output_type": "stream",
     "text": [
      "2.18 ms ± 207 µs per loop (mean ± std. dev. of 7 runs, 100 loops each)\n"
     ]
    }
   ],
   "source": [
    "def latitudes(size):\n",
    "    latitudes = []\n",
    "    x=0\n",
    "    while x<(size):\n",
    "        random_lat = random.randint(-90,90) + random.random()\n",
    "        latitudes.append(random_lat)\n",
    "        x+=1\n",
    "    return latitudes\n",
    "# Call function for 1500\n",
    "%timeit latitudes(1500)"
   ]
  },
  {
   "cell_type": "code",
   "execution_count": 24,
   "id": "26361db2",
   "metadata": {},
   "outputs": [
    {
     "name": "stdout",
     "output_type": "stream",
     "text": [
      "43.9 ns ± 7.09 ns per loop (mean ± std. dev. of 7 runs, 10000000 loops each)\n"
     ]
    }
   ],
   "source": [
    "testy=[]\n",
    "x=0\n",
    "for x in range(1500):\n",
    "    y = random.randint(-90,90) + random.random()\n",
    "    testy.append(y)\n",
    "%timeit testy"
   ]
  },
  {
   "cell_type": "code",
   "execution_count": 28,
   "id": "7b6272eb",
   "metadata": {},
   "outputs": [
    {
     "data": {
      "text/plain": [
       "1500"
      ]
     },
     "execution_count": 28,
     "metadata": {},
     "output_type": "execute_result"
    }
   ],
   "source": [
    "len(testy)"
   ]
  },
  {
   "cell_type": "code",
   "execution_count": null,
   "id": "a73aefed",
   "metadata": {},
   "outputs": [],
   "source": []
  }
 ],
 "metadata": {
  "kernelspec": {
   "display_name": "PythonData",
   "language": "python",
   "name": "pythondata"
  },
  "language_info": {
   "codemirror_mode": {
    "name": "ipython",
    "version": 3
   },
   "file_extension": ".py",
   "mimetype": "text/x-python",
   "name": "python",
   "nbconvert_exporter": "python",
   "pygments_lexer": "ipython3",
   "version": "3.9.4"
  }
 },
 "nbformat": 4,
 "nbformat_minor": 5
}
